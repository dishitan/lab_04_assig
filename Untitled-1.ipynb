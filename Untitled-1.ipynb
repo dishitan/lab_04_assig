{
 "cells": [
  {
   "cell_type": "code",
   "execution_count": 2,
   "metadata": {},
   "outputs": [
    {
     "name": "stdout",
     "output_type": "stream",
     "text": [
      "To sort Age Enter 1 \n",
      " To sort Name Enter 2\n",
      " To sort Salary Enter 3\n"
     ]
    }
   ],
   "source": [
    "#E22CSEU1255\n",
    "#Dishita Nagi\n",
    "Employee_ID=[\"161E90\",\"161F91\",\"161F99\",\"171E120\",\"171G30\"]\n",
    "Name=['Raman','Himadri','Jaya','Tejas','Ajay']\n",
    "Age=[41,38,51,30,45]\n",
    "Salary=[56000,67500,82100,55000,44000]\n",
    "def Sort_Age():\n",
    "    Age.sort()\n",
    "    print(Age)\n",
    "def Sort_Name():\n",
    "    Name.sort()\n",
    "    print(Name)\n",
    "def Sort_Salary():\n",
    "    Salary.sort()\n",
    "    print(Salary)     \n",
    "print(\"To sort Age Enter 1 \\n To sort Name Enter 2\\n To sort Salary Enter 3\")\n",
    "a=int(input())\n",
    "if a==1:\n",
    "    print(Sort_Age())\n",
    "if a==2:\n",
    "    Sort_Name()\n",
    "if a==3:\n",
    "    Sort_Salary()    "
   ]
  }
 ],
 "metadata": {
  "kernelspec": {
   "display_name": "Python 3 (ipykernel)",
   "language": "python",
   "name": "python3"
  },
  "language_info": {
   "codemirror_mode": {
    "name": "ipython",
    "version": 3
   },
   "file_extension": ".py",
   "mimetype": "text/x-python",
   "name": "python",
   "nbconvert_exporter": "python",
   "pygments_lexer": "ipython3",
   "version": "3.10.8"
  },
  "orig_nbformat": 4
 },
 "nbformat": 4,
 "nbformat_minor": 2
}
